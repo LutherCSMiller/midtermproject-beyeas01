{
 "cells": [
  {
   "cell_type": "code",
   "execution_count": 35,
   "metadata": {
    "collapsed": true
   },
   "outputs": [],
   "source": [
    "%matplotlib inline\n",
    "import pandas as pd\n"
   ]
  },
  {
   "cell_type": "code",
   "execution_count": 34,
   "metadata": {
    "collapsed": true
   },
   "outputs": [],
   "source": [
    "from bs4 import BeautifulSoup\n",
    "import requests\n",
    "import io\n",
    "import matplotlib.pyplot as plt\n",
    "from ggplot import*"
   ]
  },
  {
   "cell_type": "raw",
   "metadata": {},
   "source": [
    "Descriptions for the headings \n",
    "all -Total (or all men/women in sex-specific files)\n",
    "HS\t- High school graduate or less (EDUCD < 65)\n",
    "SC\t-Some college (EDUCD >= 65 & <= 100)\n",
    "BAp -Bachelor's degree or more (EDUCD > 100)\n",
    "BAo\t-Bachelor's degree, no graduate degre (EDUCD > 100 & <= 113)\n",
    "GD\t-Graduate degree (EDUCD > 113)\n",
    "White-\tNon-Hispanic white\n",
    "Black-\tBlack or African-American\n",
    "Hisp-\tHispanic of any race\n",
    "NE\t-New England (REGION == 11)\n",
    "MA-\tMid-Atlantic (REGION == 12)\n",
    "Midwest-\tMidwest (REGION == 21-23)\n",
    "South-\tSouth (REGION == 31-34)\n",
    "Mountain-\tMountain West (REGION == 41)\n",
    "Pacific-\tPacific (REGION == 42)\n",
    "poor-\tFamily income in lowest 25%\n",
    "mid-\tFamily income in middle 50%\n",
    "rich-\tFamily income in top 25%\n",
    "work-\tEmployed 50+ weeks prior year\n",
    "nowork-\tNot employed at least 50 weeks prior year\n",
    "nokids_all\t-No own children living at home\n",
    "kids_all-\tAt least one own child living at home"
   ]
  },
  {
   "cell_type": "code",
   "execution_count": null,
   "metadata": {
    "collapsed": true
   },
   "outputs": [],
   "source": []
  },
  {
   "cell_type": "markdown",
   "metadata": {},
   "source": [
    "As we know, society is comprised of different families with diverse backgrounds. Since a given family plays a signficant role in the social establishment and development, the idea of 'family' always fascinates me. In this journey, I'll explore the two fundamental areas in which family creation is based -  marriage and divorce. Let the journey begin with some numbers that show the marriage rate and divorce rate in the US."
   ]
  },
  {
   "cell_type": "code",
   "execution_count": 9,
   "metadata": {
    "collapsed": false
   },
   "outputs": [],
   "source": [
    "#Import csv file from the github\n",
    "#DD represents the marriage rate among men\n",
    "t = requests.get(\"https://raw.githubusercontent.com/fivethirtyeight/data/master/marriage/men.csv\").content\n",
    "DD=pd.read_csv(io.StringIO(t.decode('utf-8')))\n"
   ]
  },
  {
   "cell_type": "code",
   "execution_count": 36,
   "metadata": {
    "collapsed": false
   },
   "outputs": [
    {
     "data": {
      "text/html": [
       "<div>\n",
       "<table border=\"1\" class=\"dataframe\">\n",
       "  <thead>\n",
       "    <tr style=\"text-align: right;\">\n",
       "      <th></th>\n",
       "      <th>year</th>\n",
       "      <th>date</th>\n",
       "      <th>all_2534</th>\n",
       "      <th>HS_2534</th>\n",
       "      <th>SC_2534</th>\n",
       "      <th>BAp_2534</th>\n",
       "      <th>BAo_2534</th>\n",
       "      <th>GD_2534</th>\n",
       "      <th>White_2534</th>\n",
       "      <th>Black_2534</th>\n",
       "      <th>...</th>\n",
       "      <th>kids_SC_2534</th>\n",
       "      <th>kids_BAp_2534</th>\n",
       "      <th>kids_BAo_2534</th>\n",
       "      <th>kids_GD_2534</th>\n",
       "      <th>nokids_poor_2534</th>\n",
       "      <th>nokids_mid_2534</th>\n",
       "      <th>nokids_rich_2534</th>\n",
       "      <th>kids_poor_2534</th>\n",
       "      <th>kids_mid_2534</th>\n",
       "      <th>kids_rich_2534</th>\n",
       "    </tr>\n",
       "  </thead>\n",
       "  <tbody>\n",
       "    <tr>\n",
       "      <th>0</th>\n",
       "      <td>1960</td>\n",
       "      <td>1960-01-01</td>\n",
       "      <td>0.162455</td>\n",
       "      <td>0.150065</td>\n",
       "      <td>0.18448</td>\n",
       "      <td>0.22478</td>\n",
       "      <td>0.22478</td>\n",
       "      <td>NaN</td>\n",
       "      <td>0.154618</td>\n",
       "      <td>0.203808</td>\n",
       "      <td>...</td>\n",
       "      <td>0.001116</td>\n",
       "      <td>0.000239</td>\n",
       "      <td>0.000239</td>\n",
       "      <td>NaN</td>\n",
       "      <td>0.524838</td>\n",
       "      <td>0.433499</td>\n",
       "      <td>0.529459</td>\n",
       "      <td>0.00402</td>\n",
       "      <td>0.001163</td>\n",
       "      <td>0.001543</td>\n",
       "    </tr>\n",
       "  </tbody>\n",
       "</table>\n",
       "<p>1 rows × 98 columns</p>\n",
       "</div>"
      ],
      "text/plain": [
       "   year        date  all_2534   HS_2534  SC_2534  BAp_2534  BAo_2534  GD_2534  \\\n",
       "0  1960  1960-01-01  0.162455  0.150065  0.18448   0.22478   0.22478      NaN   \n",
       "\n",
       "   White_2534  Black_2534       ...        kids_SC_2534  kids_BAp_2534  \\\n",
       "0    0.154618    0.203808       ...            0.001116       0.000239   \n",
       "\n",
       "   kids_BAo_2534  kids_GD_2534  nokids_poor_2534  nokids_mid_2534  \\\n",
       "0       0.000239           NaN          0.524838         0.433499   \n",
       "\n",
       "   nokids_rich_2534  kids_poor_2534  kids_mid_2534  kids_rich_2534  \n",
       "0          0.529459         0.00402       0.001163        0.001543  \n",
       "\n",
       "[1 rows x 98 columns]"
      ]
     },
     "execution_count": 36,
     "metadata": {},
     "output_type": "execute_result"
    }
   ],
   "source": [
    "DD.drop(DD.columns[0], axis = 1).head(1)\n",
    "\n"
   ]
  },
  {
   "cell_type": "code",
   "execution_count": 37,
   "metadata": {
    "collapsed": true
   },
   "outputs": [],
   "source": [
    "#wmrate represents the marriage rate for women\n",
    "wmrate = requests.get(\"https://raw.githubusercontent.com/fivethirtyeight/data/master/marriage/women.csv\").content\n",
    "wm=pd.read_csv(io.StringIO(wmrate.decode('utf-8')))"
   ]
  },
  {
   "cell_type": "code",
   "execution_count": 38,
   "metadata": {
    "collapsed": false
   },
   "outputs": [
    {
     "data": {
      "text/html": [
       "<div>\n",
       "<table border=\"1\" class=\"dataframe\">\n",
       "  <thead>\n",
       "    <tr style=\"text-align: right;\">\n",
       "      <th></th>\n",
       "      <th>year</th>\n",
       "      <th>date</th>\n",
       "      <th>all_2534</th>\n",
       "      <th>HS_2534</th>\n",
       "      <th>SC_2534</th>\n",
       "      <th>BAp_2534</th>\n",
       "      <th>BAo_2534</th>\n",
       "      <th>GD_2534</th>\n",
       "      <th>White_2534</th>\n",
       "      <th>Black_2534</th>\n",
       "      <th>...</th>\n",
       "      <th>kids_SC_2534</th>\n",
       "      <th>kids_BAp_2534</th>\n",
       "      <th>kids_BAo_2534</th>\n",
       "      <th>kids_GD_2534</th>\n",
       "      <th>nokids_poor_2534</th>\n",
       "      <th>nokids_mid_2534</th>\n",
       "      <th>nokids_rich_2534</th>\n",
       "      <th>kids_poor_2534</th>\n",
       "      <th>kids_mid_2534</th>\n",
       "      <th>kids_rich_2534</th>\n",
       "    </tr>\n",
       "  </thead>\n",
       "  <tbody>\n",
       "    <tr>\n",
       "      <th>0</th>\n",
       "      <td>1960</td>\n",
       "      <td>1960-01-01</td>\n",
       "      <td>0.085942</td>\n",
       "      <td>0.07502</td>\n",
       "      <td>0.114628</td>\n",
       "      <td>0.288222</td>\n",
       "      <td>0.288222</td>\n",
       "      <td>NaN</td>\n",
       "      <td>0.079577</td>\n",
       "      <td>0.127277</td>\n",
       "      <td>...</td>\n",
       "      <td>0.001186</td>\n",
       "      <td>0.001968</td>\n",
       "      <td>0.001968</td>\n",
       "      <td>NaN</td>\n",
       "      <td>0.452277</td>\n",
       "      <td>0.374556</td>\n",
       "      <td>0.427307</td>\n",
       "      <td>0.013076</td>\n",
       "      <td>0.00045</td>\n",
       "      <td>0.000256</td>\n",
       "    </tr>\n",
       "  </tbody>\n",
       "</table>\n",
       "<p>1 rows × 98 columns</p>\n",
       "</div>"
      ],
      "text/plain": [
       "   year        date  all_2534  HS_2534   SC_2534  BAp_2534  BAo_2534  GD_2534  \\\n",
       "0  1960  1960-01-01  0.085942  0.07502  0.114628  0.288222  0.288222      NaN   \n",
       "\n",
       "   White_2534  Black_2534       ...        kids_SC_2534  kids_BAp_2534  \\\n",
       "0    0.079577    0.127277       ...            0.001186       0.001968   \n",
       "\n",
       "   kids_BAo_2534  kids_GD_2534  nokids_poor_2534  nokids_mid_2534  \\\n",
       "0       0.001968           NaN          0.452277         0.374556   \n",
       "\n",
       "   nokids_rich_2534  kids_poor_2534  kids_mid_2534  kids_rich_2534  \n",
       "0          0.427307        0.013076        0.00045        0.000256  \n",
       "\n",
       "[1 rows x 98 columns]"
      ]
     },
     "execution_count": 38,
     "metadata": {},
     "output_type": "execute_result"
    }
   ],
   "source": [
    "wm.drop(DD.columns[0], axis = 1).head(1)"
   ]
  },
  {
   "cell_type": "code",
   "execution_count": 39,
   "metadata": {
    "collapsed": true
   },
   "outputs": [],
   "source": [
    "#dr represents divorce rate \n",
    "divorcerateforboth = requests.get(\"https://raw.githubusercontent.com/fivethirtyeight/data/master/marriage/divorce.csv\").content\n",
    "dr=pd.read_csv(io.StringIO(divorcerateforboth.decode('utf-8')))"
   ]
  },
  {
   "cell_type": "code",
   "execution_count": 14,
   "metadata": {
    "collapsed": false
   },
   "outputs": [
    {
     "data": {
      "text/html": [
       "<div>\n",
       "<table border=\"1\" class=\"dataframe\">\n",
       "  <thead>\n",
       "    <tr style=\"text-align: right;\">\n",
       "      <th></th>\n",
       "      <th>year</th>\n",
       "      <th>date</th>\n",
       "      <th>all_3544</th>\n",
       "      <th>HS_3544</th>\n",
       "      <th>SC_3544</th>\n",
       "      <th>BAp_3544</th>\n",
       "      <th>BAo_3544</th>\n",
       "      <th>GD_3544</th>\n",
       "      <th>poor_3544</th>\n",
       "      <th>mid_3544</th>\n",
       "      <th>rich_3544</th>\n",
       "      <th>all_4554</th>\n",
       "      <th>HS_4554</th>\n",
       "      <th>SC_4554</th>\n",
       "      <th>BAp_4554</th>\n",
       "      <th>BAo_4554</th>\n",
       "      <th>GD_4554</th>\n",
       "      <th>poor_4554</th>\n",
       "      <th>mid_4554</th>\n",
       "      <th>rich_4554</th>\n",
       "    </tr>\n",
       "  </thead>\n",
       "  <tbody>\n",
       "    <tr>\n",
       "      <th>0</th>\n",
       "      <td>1960</td>\n",
       "      <td>1960-01-01</td>\n",
       "      <td>0.034445</td>\n",
       "      <td>0.034889</td>\n",
       "      <td>0.033669</td>\n",
       "      <td>0.027513</td>\n",
       "      <td>0.027513</td>\n",
       "      <td>NaN</td>\n",
       "      <td>0.071951</td>\n",
       "      <td>0.021225</td>\n",
       "      <td>0.022562</td>\n",
       "      <td>0.039651</td>\n",
       "      <td>0.040071</td>\n",
       "      <td>0.038703</td>\n",
       "      <td>0.031886</td>\n",
       "      <td>0.031886</td>\n",
       "      <td>NaN</td>\n",
       "      <td>0.075373</td>\n",
       "      <td>0.029337</td>\n",
       "      <td>0.023505</td>\n",
       "    </tr>\n",
       "  </tbody>\n",
       "</table>\n",
       "</div>"
      ],
      "text/plain": [
       "   year        date  all_3544   HS_3544   SC_3544  BAp_3544  BAo_3544  \\\n",
       "0  1960  1960-01-01  0.034445  0.034889  0.033669  0.027513  0.027513   \n",
       "\n",
       "   GD_3544  poor_3544  mid_3544  rich_3544  all_4554   HS_4554   SC_4554  \\\n",
       "0      NaN   0.071951  0.021225   0.022562  0.039651  0.040071  0.038703   \n",
       "\n",
       "   BAp_4554  BAo_4554  GD_4554  poor_4554  mid_4554  rich_4554  \n",
       "0  0.031886  0.031886      NaN   0.075373  0.029337   0.023505  "
      ]
     },
     "execution_count": 14,
     "metadata": {},
     "output_type": "execute_result"
    }
   ],
   "source": [
    "dr.drop(dr.columns[0], axis = 1).head(1)"
   ]
  },
  {
   "cell_type": "code",
   "execution_count": 108,
   "metadata": {
    "collapsed": false
   },
   "outputs": [
    {
     "data": {
      "text/plain": [
       "Index(['Unnamed: 0', 'year', 'date', 'all_3544', 'HS_3544', 'SC_3544',\n",
       "       'BAp_3544', 'BAo_3544', 'GD_3544', 'poor_3544', 'mid_3544', 'rich_3544',\n",
       "       'all_4554', 'HS_4554', 'SC_4554', 'BAp_4554', 'BAo_4554', 'GD_4554',\n",
       "       'poor_4554', 'mid_4554', 'rich_4554'],\n",
       "      dtype='object')"
      ]
     },
     "execution_count": 108,
     "metadata": {},
     "output_type": "execute_result"
    }
   ],
   "source": [
    "dr.columns"
   ]
  },
  {
   "cell_type": "code",
   "execution_count": null,
   "metadata": {
    "collapsed": true
   },
   "outputs": [],
   "source": []
  },
  {
   "cell_type": "markdown",
   "metadata": {},
   "source": [
    "In this section, I'll explore the marriage and divorce rate among well-educated and less-educated men in the US.\n",
    "Specifically this section will answer the question such as: the period where there was the highest marriage rate, \n",
    "the pattern of the marriage rate for men.\n",
    "    \n",
    "    "
   ]
  },
  {
   "cell_type": "markdown",
   "metadata": {
    "collapsed": false
   },
   "source": [
    "### When did the US encountered the highest marriage rate among men who have Bachelor's degree and above?"
   ]
  },
  {
   "cell_type": "code",
   "execution_count": 40,
   "metadata": {
    "collapsed": false
   },
   "outputs": [
    {
     "data": {
      "text/html": [
       "<div>\n",
       "<table border=\"1\" class=\"dataframe\">\n",
       "  <thead>\n",
       "    <tr style=\"text-align: right;\">\n",
       "      <th></th>\n",
       "      <th>year</th>\n",
       "      <th>BAp_2534</th>\n",
       "    </tr>\n",
       "  </thead>\n",
       "  <tbody>\n",
       "    <tr>\n",
       "      <th>16</th>\n",
       "      <td>2012</td>\n",
       "      <td>0.525877</td>\n",
       "    </tr>\n",
       "  </tbody>\n",
       "</table>\n",
       "</div>"
      ],
      "text/plain": [
       "    year  BAp_2534\n",
       "16  2012  0.525877"
      ]
     },
     "execution_count": 40,
     "metadata": {},
     "output_type": "execute_result"
    }
   ],
   "source": [
    "\n",
    "DD[['year', 'BAp_2534']].sort_values(by = 'BAp_2534', ascending = False).head(1)\n"
   ]
  },
  {
   "cell_type": "code",
   "execution_count": null,
   "metadata": {
    "collapsed": false
   },
   "outputs": [],
   "source": []
  },
  {
   "cell_type": "markdown",
   "metadata": {},
   "source": [
    "### Understanding the marriage rate among  men who have Bachelor's degree and above from 1960 - 2012 in the US through the line graph"
   ]
  },
  {
   "cell_type": "code",
   "execution_count": 41,
   "metadata": {
    "collapsed": false,
    "scrolled": true
   },
   "outputs": [
    {
     "data": {
      "image/png": "[encoded data removed]",
      "text/plain": [
       "<matplotlib.figure.Figure at 0x7f3a04d0b898>"
      ]
     },
     "metadata": {},
     "output_type": "display_data"
    },
    {
     "data": {
      "text/plain": [
       "<ggplot: (-9223363293906910590)>"
      ]
     },
     "execution_count": 41,
     "metadata": {},
     "output_type": "execute_result"
    }
   ],
   "source": [
    "ggplot(aes(x='year', y = 'BAp_2534'), data = DD) + geom_line() + xlab(\"Year\") +ylab(\"Bachelor's Degree and above\")\n",
    "#m+ scale_x_continuous(limits= c(0, 0)) + scale_y_continuous(limits = c(0, 0))\n"
   ]
  },
  {
   "cell_type": "markdown",
   "metadata": {},
   "source": [
    "### When did the US encountered the highest marriage rate among high school graduates or less?"
   ]
  },
  {
   "cell_type": "code",
   "execution_count": 42,
   "metadata": {
    "collapsed": false
   },
   "outputs": [
    {
     "data": {
      "text/html": [
       "<div>\n",
       "<table border=\"1\" class=\"dataframe\">\n",
       "  <thead>\n",
       "    <tr style=\"text-align: right;\">\n",
       "      <th></th>\n",
       "      <th>year</th>\n",
       "      <th>HS_2534</th>\n",
       "    </tr>\n",
       "  </thead>\n",
       "  <tbody>\n",
       "    <tr>\n",
       "      <th>16</th>\n",
       "      <td>2012</td>\n",
       "      <td>0.573686</td>\n",
       "    </tr>\n",
       "  </tbody>\n",
       "</table>\n",
       "</div>"
      ],
      "text/plain": [
       "    year   HS_2534\n",
       "16  2012  0.573686"
      ]
     },
     "execution_count": 42,
     "metadata": {},
     "output_type": "execute_result"
    }
   ],
   "source": [
    "DD[['year', 'HS_2534']].sort_values(by = 'HS_2534', ascending = False).head(1)"
   ]
  },
  {
   "cell_type": "markdown",
   "metadata": {},
   "source": [
    "### Understanding the marriage rate among men who have Bachelor's degree and above and those who completed just high school "
   ]
  },
  {
   "cell_type": "code",
   "execution_count": 43,
   "metadata": {
    "collapsed": false
   },
   "outputs": [
    {
     "data": {
      "text/plain": [
       "<matplotlib.axes._subplots.AxesSubplot at 0x7f3a04bf04e0>"
      ]
     },
     "execution_count": 43,
     "metadata": {},
     "output_type": "execute_result"
    },
    {
     "data": {
      "image/png": "[encoded data removed]",
      "text/plain": [
       "<matplotlib.figure.Figure at 0x7f3a04c7edd8>"
      ]
     },
     "metadata": {},
     "output_type": "display_data"
    }
   ],
   "source": [
    "\n",
    "fig = plt.figure()\n",
    "\n",
    "ax = fig.add_subplot(111)\n",
    "ax2 = ax.twinx()\n",
    "ax.set_title('Marriage rate of men for different levels of education')\n",
    "\n",
    "DD['HS_2534'].plot(kind='bar', color='red', ax=ax, position=0, width=0.25)\n",
    "\n",
    "DD['BAp_2534'].plot(kind='bar', color='blue', ax=ax2, position=1, width=0.25, legend =True)\n",
    "\n"
   ]
  },
  {
   "cell_type": "markdown",
   "metadata": {},
   "source": [
    "Let's explore the divorce rate among men and women for different levels of education"
   ]
  },
  {
   "cell_type": "code",
   "execution_count": 60,
   "metadata": {
    "collapsed": false
   },
   "outputs": [
    {
     "data": {
      "text/plain": [
       "<matplotlib.axes._subplots.AxesSubplot at 0x7f3a0445c160>"
      ]
     },
     "execution_count": 60,
     "metadata": {},
     "output_type": "execute_result"
    },
    {
     "data": {
      "image/png": "[encoded data removed]",
      "text/plain": [
       "<matplotlib.figure.Figure at 0x7f3a045690f0>"
      ]
     },
     "metadata": {},
     "output_type": "display_data"
    }
   ],
   "source": [
    "fig = plt.figure()\n",
    "\n",
    "ax = fig.add_subplot(111)\n",
    "ax2 = ax.twinx()\n",
    "ax.set_title('Divorce rate with respect to the levels of education')\n",
    "\n",
    "dr['HS_3544'].plot(kind='bar', color='red', ax=ax, position=0, width=0.25)\n",
    "\n",
    "dr['BAp_3544'].plot(kind='bar', color='blue', ax=ax2, position=1, width=0.25)"
   ]
  },
  {
   "cell_type": "markdown",
   "metadata": {},
   "source": [
    "Let's change our topic of exploration a little bit to understand the marriage rate among different races."
   ]
  },
  {
   "cell_type": "code",
   "execution_count": 57,
   "metadata": {
    "collapsed": false
   },
   "outputs": [
    {
     "data": {
      "text/html": [
       "<div>\n",
       "<table border=\"1\" class=\"dataframe\">\n",
       "  <thead>\n",
       "    <tr style=\"text-align: right;\">\n",
       "      <th></th>\n",
       "      <th>year</th>\n",
       "      <th>Hisp_2534_x</th>\n",
       "      <th>Hisp_2534_y</th>\n",
       "      <th>Black_2534_x</th>\n",
       "      <th>Black_2534_y</th>\n",
       "      <th>White_2534_x</th>\n",
       "      <th>White_2534_y</th>\n",
       "    </tr>\n",
       "  </thead>\n",
       "  <tbody>\n",
       "    <tr>\n",
       "      <th>16</th>\n",
       "      <td>2012</td>\n",
       "      <td>0.541941</td>\n",
       "      <td>0.426991</td>\n",
       "      <td>0.687589</td>\n",
       "      <td>0.682059</td>\n",
       "      <td>0.514680</td>\n",
       "      <td>0.392048</td>\n",
       "    </tr>\n",
       "    <tr>\n",
       "      <th>15</th>\n",
       "      <td>2011</td>\n",
       "      <td>0.528108</td>\n",
       "      <td>0.419577</td>\n",
       "      <td>0.695414</td>\n",
       "      <td>0.667419</td>\n",
       "      <td>0.501257</td>\n",
       "      <td>0.380510</td>\n",
       "    </tr>\n",
       "    <tr>\n",
       "      <th>14</th>\n",
       "      <td>2010</td>\n",
       "      <td>0.513770</td>\n",
       "      <td>0.394008</td>\n",
       "      <td>0.675512</td>\n",
       "      <td>0.656936</td>\n",
       "      <td>0.491110</td>\n",
       "      <td>0.368710</td>\n",
       "    </tr>\n",
       "    <tr>\n",
       "      <th>13</th>\n",
       "      <td>2009</td>\n",
       "      <td>0.507118</td>\n",
       "      <td>0.386927</td>\n",
       "      <td>0.665879</td>\n",
       "      <td>0.652275</td>\n",
       "      <td>0.481377</td>\n",
       "      <td>0.361925</td>\n",
       "    </tr>\n",
       "    <tr>\n",
       "      <th>12</th>\n",
       "      <td>2008</td>\n",
       "      <td>0.480975</td>\n",
       "      <td>0.364283</td>\n",
       "      <td>0.645825</td>\n",
       "      <td>0.640571</td>\n",
       "      <td>0.458493</td>\n",
       "      <td>0.337421</td>\n",
       "    </tr>\n",
       "    <tr>\n",
       "      <th>11</th>\n",
       "      <td>2007</td>\n",
       "      <td>0.456701</td>\n",
       "      <td>0.351606</td>\n",
       "      <td>0.641037</td>\n",
       "      <td>0.630466</td>\n",
       "      <td>0.446229</td>\n",
       "      <td>0.326245</td>\n",
       "    </tr>\n",
       "    <tr>\n",
       "      <th>10</th>\n",
       "      <td>2006</td>\n",
       "      <td>0.448674</td>\n",
       "      <td>0.329933</td>\n",
       "      <td>0.626639</td>\n",
       "      <td>0.615373</td>\n",
       "      <td>0.434209</td>\n",
       "      <td>0.315572</td>\n",
       "    </tr>\n",
       "    <tr>\n",
       "      <th>9</th>\n",
       "      <td>2005</td>\n",
       "      <td>0.403624</td>\n",
       "      <td>0.306705</td>\n",
       "      <td>0.566881</td>\n",
       "      <td>0.581862</td>\n",
       "      <td>0.398222</td>\n",
       "      <td>0.289872</td>\n",
       "    </tr>\n",
       "    <tr>\n",
       "      <th>8</th>\n",
       "      <td>2004</td>\n",
       "      <td>0.392210</td>\n",
       "      <td>0.298135</td>\n",
       "      <td>0.566589</td>\n",
       "      <td>0.576916</td>\n",
       "      <td>0.384354</td>\n",
       "      <td>0.277180</td>\n",
       "    </tr>\n",
       "    <tr>\n",
       "      <th>7</th>\n",
       "      <td>2003</td>\n",
       "      <td>0.386227</td>\n",
       "      <td>0.290982</td>\n",
       "      <td>0.556734</td>\n",
       "      <td>0.557025</td>\n",
       "      <td>0.380288</td>\n",
       "      <td>0.271263</td>\n",
       "    </tr>\n",
       "    <tr>\n",
       "      <th>5</th>\n",
       "      <td>2001</td>\n",
       "      <td>0.379712</td>\n",
       "      <td>0.279352</td>\n",
       "      <td>0.536854</td>\n",
       "      <td>0.549247</td>\n",
       "      <td>0.375996</td>\n",
       "      <td>0.261008</td>\n",
       "    </tr>\n",
       "    <tr>\n",
       "      <th>6</th>\n",
       "      <td>2002</td>\n",
       "      <td>0.379527</td>\n",
       "      <td>0.277016</td>\n",
       "      <td>0.534876</td>\n",
       "      <td>0.544823</td>\n",
       "      <td>0.372149</td>\n",
       "      <td>0.267542</td>\n",
       "    </tr>\n",
       "    <tr>\n",
       "      <th>4</th>\n",
       "      <td>2000</td>\n",
       "      <td>0.365680</td>\n",
       "      <td>0.263658</td>\n",
       "      <td>0.502687</td>\n",
       "      <td>0.525104</td>\n",
       "      <td>0.369256</td>\n",
       "      <td>0.255644</td>\n",
       "    </tr>\n",
       "    <tr>\n",
       "      <th>3</th>\n",
       "      <td>1990</td>\n",
       "      <td>0.346432</td>\n",
       "      <td>0.240644</td>\n",
       "      <td>0.506136</td>\n",
       "      <td>0.464069</td>\n",
       "      <td>0.321448</td>\n",
       "      <td>0.205901</td>\n",
       "    </tr>\n",
       "    <tr>\n",
       "      <th>2</th>\n",
       "      <td>1980</td>\n",
       "      <td>0.220329</td>\n",
       "      <td>0.156979</td>\n",
       "      <td>0.333649</td>\n",
       "      <td>0.296722</td>\n",
       "      <td>0.223513</td>\n",
       "      <td>0.141464</td>\n",
       "    </tr>\n",
       "    <tr>\n",
       "      <th>0</th>\n",
       "      <td>1960</td>\n",
       "      <td>0.178167</td>\n",
       "      <td>0.099211</td>\n",
       "      <td>0.203808</td>\n",
       "      <td>0.127277</td>\n",
       "      <td>0.154618</td>\n",
       "      <td>0.079577</td>\n",
       "    </tr>\n",
       "    <tr>\n",
       "      <th>1</th>\n",
       "      <td>1970</td>\n",
       "      <td>0.148890</td>\n",
       "      <td>0.112692</td>\n",
       "      <td>0.208536</td>\n",
       "      <td>0.166868</td>\n",
       "      <td>0.147261</td>\n",
       "      <td>0.089384</td>\n",
       "    </tr>\n",
       "  </tbody>\n",
       "</table>\n",
       "</div>"
      ],
      "text/plain": [
       "    year  Hisp_2534_x  Hisp_2534_y  Black_2534_x  Black_2534_y  White_2534_x  \\\n",
       "16  2012     0.541941     0.426991      0.687589      0.682059      0.514680   \n",
       "15  2011     0.528108     0.419577      0.695414      0.667419      0.501257   \n",
       "14  2010     0.513770     0.394008      0.675512      0.656936      0.491110   \n",
       "13  2009     0.507118     0.386927      0.665879      0.652275      0.481377   \n",
       "12  2008     0.480975     0.364283      0.645825      0.640571      0.458493   \n",
       "11  2007     0.456701     0.351606      0.641037      0.630466      0.446229   \n",
       "10  2006     0.448674     0.329933      0.626639      0.615373      0.434209   \n",
       "9   2005     0.403624     0.306705      0.566881      0.581862      0.398222   \n",
       "8   2004     0.392210     0.298135      0.566589      0.576916      0.384354   \n",
       "7   2003     0.386227     0.290982      0.556734      0.557025      0.380288   \n",
       "5   2001     0.379712     0.279352      0.536854      0.549247      0.375996   \n",
       "6   2002     0.379527     0.277016      0.534876      0.544823      0.372149   \n",
       "4   2000     0.365680     0.263658      0.502687      0.525104      0.369256   \n",
       "3   1990     0.346432     0.240644      0.506136      0.464069      0.321448   \n",
       "2   1980     0.220329     0.156979      0.333649      0.296722      0.223513   \n",
       "0   1960     0.178167     0.099211      0.203808      0.127277      0.154618   \n",
       "1   1970     0.148890     0.112692      0.208536      0.166868      0.147261   \n",
       "\n",
       "    White_2534_y  \n",
       "16      0.392048  \n",
       "15      0.380510  \n",
       "14      0.368710  \n",
       "13      0.361925  \n",
       "12      0.337421  \n",
       "11      0.326245  \n",
       "10      0.315572  \n",
       "9       0.289872  \n",
       "8       0.277180  \n",
       "7       0.271263  \n",
       "5       0.261008  \n",
       "6       0.267542  \n",
       "4       0.255644  \n",
       "3       0.205901  \n",
       "2       0.141464  \n",
       "0       0.079577  \n",
       "1       0.089384  "
      ]
     },
     "execution_count": 57,
     "metadata": {},
     "output_type": "execute_result"
    }
   ],
   "source": [
    "# Columns end with _x and _y represent men and women respectively\n",
    "mwmr[['year','Hisp_2534_x', 'Hisp_2534_y', 'Black_2534_x','Black_2534_y', 'White_2534_x', 'White_2534_y']].sort_values(by = ['Hisp_2534_x', 'Hisp_2534_y', 'Black_2534_x','Black_2534_y', 'White_2534_x', 'White_2534_y'],ascending=False)"
   ]
  },
  {
   "cell_type": "markdown",
   "metadata": {},
   "source": [
    "Let's explore the marriage gap between men and women of 3 races given in the data set."
   ]
  },
  {
   "cell_type": "code",
   "execution_count": 61,
   "metadata": {
    "collapsed": true
   },
   "outputs": [],
   "source": [
    "mwmr['mgapamongwhites'] = mwmr['White_2534_x']-mwmr['White_2534_y']\n",
    "mwmr['mgapamongblacks'] = mwmr['Black_2534_x']-mwmr['Black_2534_y']\n",
    "mwmr['mgapamonghisp'] = mwmr['Hisp_2534_x']-mwmr['Hisp_2534_y']\n"
   ]
  },
  {
   "cell_type": "code",
   "execution_count": 62,
   "metadata": {
    "collapsed": false
   },
   "outputs": [
    {
     "data": {
      "text/html": [
       "<div>\n",
       "<table border=\"1\" class=\"dataframe\">\n",
       "  <thead>\n",
       "    <tr style=\"text-align: right;\">\n",
       "      <th></th>\n",
       "      <th>year</th>\n",
       "      <th>mgapamongwhites</th>\n",
       "      <th>mgapamongblacks</th>\n",
       "      <th>mgapamonghisp</th>\n",
       "    </tr>\n",
       "  </thead>\n",
       "  <tbody>\n",
       "    <tr>\n",
       "      <th>16</th>\n",
       "      <td>2012</td>\n",
       "      <td>0.122632</td>\n",
       "      <td>0.005530</td>\n",
       "      <td>0.114950</td>\n",
       "    </tr>\n",
       "    <tr>\n",
       "      <th>15</th>\n",
       "      <td>2011</td>\n",
       "      <td>0.120747</td>\n",
       "      <td>0.027995</td>\n",
       "      <td>0.108531</td>\n",
       "    </tr>\n",
       "    <tr>\n",
       "      <th>14</th>\n",
       "      <td>2010</td>\n",
       "      <td>0.122400</td>\n",
       "      <td>0.018576</td>\n",
       "      <td>0.119762</td>\n",
       "    </tr>\n",
       "    <tr>\n",
       "      <th>13</th>\n",
       "      <td>2009</td>\n",
       "      <td>0.119452</td>\n",
       "      <td>0.013604</td>\n",
       "      <td>0.120192</td>\n",
       "    </tr>\n",
       "    <tr>\n",
       "      <th>12</th>\n",
       "      <td>2008</td>\n",
       "      <td>0.121072</td>\n",
       "      <td>0.005255</td>\n",
       "      <td>0.116691</td>\n",
       "    </tr>\n",
       "    <tr>\n",
       "      <th>11</th>\n",
       "      <td>2007</td>\n",
       "      <td>0.119984</td>\n",
       "      <td>0.010571</td>\n",
       "      <td>0.105095</td>\n",
       "    </tr>\n",
       "    <tr>\n",
       "      <th>10</th>\n",
       "      <td>2006</td>\n",
       "      <td>0.118637</td>\n",
       "      <td>0.011266</td>\n",
       "      <td>0.118741</td>\n",
       "    </tr>\n",
       "    <tr>\n",
       "      <th>9</th>\n",
       "      <td>2005</td>\n",
       "      <td>0.108350</td>\n",
       "      <td>-0.014980</td>\n",
       "      <td>0.096920</td>\n",
       "    </tr>\n",
       "    <tr>\n",
       "      <th>8</th>\n",
       "      <td>2004</td>\n",
       "      <td>0.107175</td>\n",
       "      <td>-0.010327</td>\n",
       "      <td>0.094075</td>\n",
       "    </tr>\n",
       "    <tr>\n",
       "      <th>7</th>\n",
       "      <td>2003</td>\n",
       "      <td>0.109025</td>\n",
       "      <td>-0.000291</td>\n",
       "      <td>0.095245</td>\n",
       "    </tr>\n",
       "    <tr>\n",
       "      <th>6</th>\n",
       "      <td>2002</td>\n",
       "      <td>0.104607</td>\n",
       "      <td>-0.009947</td>\n",
       "      <td>0.102511</td>\n",
       "    </tr>\n",
       "    <tr>\n",
       "      <th>5</th>\n",
       "      <td>2001</td>\n",
       "      <td>0.114988</td>\n",
       "      <td>-0.012393</td>\n",
       "      <td>0.100360</td>\n",
       "    </tr>\n",
       "    <tr>\n",
       "      <th>4</th>\n",
       "      <td>2000</td>\n",
       "      <td>0.113613</td>\n",
       "      <td>-0.022418</td>\n",
       "      <td>0.102022</td>\n",
       "    </tr>\n",
       "    <tr>\n",
       "      <th>3</th>\n",
       "      <td>1990</td>\n",
       "      <td>0.115547</td>\n",
       "      <td>0.042067</td>\n",
       "      <td>0.105789</td>\n",
       "    </tr>\n",
       "    <tr>\n",
       "      <th>2</th>\n",
       "      <td>1980</td>\n",
       "      <td>0.082049</td>\n",
       "      <td>0.036926</td>\n",
       "      <td>0.063350</td>\n",
       "    </tr>\n",
       "    <tr>\n",
       "      <th>1</th>\n",
       "      <td>1970</td>\n",
       "      <td>0.057877</td>\n",
       "      <td>0.041668</td>\n",
       "      <td>0.036197</td>\n",
       "    </tr>\n",
       "    <tr>\n",
       "      <th>0</th>\n",
       "      <td>1960</td>\n",
       "      <td>0.075041</td>\n",
       "      <td>0.076531</td>\n",
       "      <td>0.078956</td>\n",
       "    </tr>\n",
       "  </tbody>\n",
       "</table>\n",
       "</div>"
      ],
      "text/plain": [
       "    year  mgapamongwhites  mgapamongblacks  mgapamonghisp\n",
       "16  2012         0.122632         0.005530       0.114950\n",
       "15  2011         0.120747         0.027995       0.108531\n",
       "14  2010         0.122400         0.018576       0.119762\n",
       "13  2009         0.119452         0.013604       0.120192\n",
       "12  2008         0.121072         0.005255       0.116691\n",
       "11  2007         0.119984         0.010571       0.105095\n",
       "10  2006         0.118637         0.011266       0.118741\n",
       "9   2005         0.108350        -0.014980       0.096920\n",
       "8   2004         0.107175        -0.010327       0.094075\n",
       "7   2003         0.109025        -0.000291       0.095245\n",
       "6   2002         0.104607        -0.009947       0.102511\n",
       "5   2001         0.114988        -0.012393       0.100360\n",
       "4   2000         0.113613        -0.022418       0.102022\n",
       "3   1990         0.115547         0.042067       0.105789\n",
       "2   1980         0.082049         0.036926       0.063350\n",
       "1   1970         0.057877         0.041668       0.036197\n",
       "0   1960         0.075041         0.076531       0.078956"
      ]
     },
     "execution_count": 62,
     "metadata": {},
     "output_type": "execute_result"
    }
   ],
   "source": [
    "mwmr[['year','mgapamongwhites',  'mgapamongblacks', 'mgapamonghisp']].sort_values(by = 'year',ascending=False)\n"
   ]
  },
  {
   "cell_type": "markdown",
   "metadata": {},
   "source": [
    "Let's switch our gear to find the average marriage rate among the races. We'll determine the average through using the column for men and women for each race from the merged table."
   ]
  },
  {
   "cell_type": "code",
   "execution_count": 63,
   "metadata": {
    "collapsed": false
   },
   "outputs": [],
   "source": [
    "mwmr['avgwhites'] = mwmr[['White_2534_x', 'White_2534_y']].mean(axis =1)\n",
    "mwmr['avgblacks'] = mwmr[['Black_2534_x', 'Black_2534_y']].mean(axis=1)\n",
    "mwmr['avghisp'] = mwmr[['Hisp_2534_x','Hisp_2534_y']].mean(axis=1)"
   ]
  },
  {
   "cell_type": "code",
   "execution_count": 65,
   "metadata": {
    "collapsed": false
   },
   "outputs": [
    {
     "data": {
      "text/plain": [
       "<matplotlib.axes._subplots.AxesSubplot at 0x7f3a04178be0>"
      ]
     },
     "execution_count": 65,
     "metadata": {},
     "output_type": "execute_result"
    },
    {
     "data": {
      "image/png": "[encoded data removed]",
      "text/plain": [
       "<matplotlib.figure.Figure at 0x7f3a0439b710>"
      ]
     },
     "metadata": {},
     "output_type": "display_data"
    }
   ],
   "source": [
    "fig = plt.figure()\n",
    "ax = fig.add_subplot(111)\n",
    "ax.set_title('Average marriage rate of white, black and hispanic')\n",
    "ax2 = ax.twinx()\n",
    "ax3 = ax2.twinx()\n",
    "\n",
    "mwmr['avgwhites'].plot(kind='bar', color='red', ax=ax3, position=0, width=0.50)\n",
    "mwmr['avgblacks'].plot(kind='bar', color='black', ax=ax, position=0, width=0.50)\n",
    "mwmr['avghisp'].plot(kind='bar', color='green', ax=ax2, position=1, width=0.50)\n"
   ]
  },
  {
   "cell_type": "code",
   "execution_count": null,
   "metadata": {
    "collapsed": true
   },
   "outputs": [],
   "source": []
  },
  {
   "cell_type": "markdown",
   "metadata": {
    "collapsed": true
   },
   "source": [
    "### Understanding the marriage rate among white, black and hispanic men in the US\n",
    "Let's explore the marriage rate just for men through bar graph."
   ]
  },
  {
   "cell_type": "code",
   "execution_count": 66,
   "metadata": {
    "collapsed": false
   },
   "outputs": [
    {
     "data": {
      "text/html": [
       "<div>\n",
       "<table border=\"1\" class=\"dataframe\">\n",
       "  <thead>\n",
       "    <tr style=\"text-align: right;\">\n",
       "      <th></th>\n",
       "      <th>year</th>\n",
       "      <th>Hisp_2534</th>\n",
       "      <th>Black_2534</th>\n",
       "      <th>White_2534</th>\n",
       "    </tr>\n",
       "  </thead>\n",
       "  <tbody>\n",
       "    <tr>\n",
       "      <th>16</th>\n",
       "      <td>2012</td>\n",
       "      <td>0.541941</td>\n",
       "      <td>0.687589</td>\n",
       "      <td>0.514680</td>\n",
       "    </tr>\n",
       "    <tr>\n",
       "      <th>15</th>\n",
       "      <td>2011</td>\n",
       "      <td>0.528108</td>\n",
       "      <td>0.695414</td>\n",
       "      <td>0.501257</td>\n",
       "    </tr>\n",
       "    <tr>\n",
       "      <th>14</th>\n",
       "      <td>2010</td>\n",
       "      <td>0.513770</td>\n",
       "      <td>0.675512</td>\n",
       "      <td>0.491110</td>\n",
       "    </tr>\n",
       "    <tr>\n",
       "      <th>13</th>\n",
       "      <td>2009</td>\n",
       "      <td>0.507118</td>\n",
       "      <td>0.665879</td>\n",
       "      <td>0.481377</td>\n",
       "    </tr>\n",
       "    <tr>\n",
       "      <th>12</th>\n",
       "      <td>2008</td>\n",
       "      <td>0.480975</td>\n",
       "      <td>0.645825</td>\n",
       "      <td>0.458493</td>\n",
       "    </tr>\n",
       "    <tr>\n",
       "      <th>11</th>\n",
       "      <td>2007</td>\n",
       "      <td>0.456701</td>\n",
       "      <td>0.641037</td>\n",
       "      <td>0.446229</td>\n",
       "    </tr>\n",
       "    <tr>\n",
       "      <th>10</th>\n",
       "      <td>2006</td>\n",
       "      <td>0.448674</td>\n",
       "      <td>0.626639</td>\n",
       "      <td>0.434209</td>\n",
       "    </tr>\n",
       "    <tr>\n",
       "      <th>9</th>\n",
       "      <td>2005</td>\n",
       "      <td>0.403624</td>\n",
       "      <td>0.566881</td>\n",
       "      <td>0.398222</td>\n",
       "    </tr>\n",
       "    <tr>\n",
       "      <th>8</th>\n",
       "      <td>2004</td>\n",
       "      <td>0.392210</td>\n",
       "      <td>0.566589</td>\n",
       "      <td>0.384354</td>\n",
       "    </tr>\n",
       "    <tr>\n",
       "      <th>7</th>\n",
       "      <td>2003</td>\n",
       "      <td>0.386227</td>\n",
       "      <td>0.556734</td>\n",
       "      <td>0.380288</td>\n",
       "    </tr>\n",
       "    <tr>\n",
       "      <th>5</th>\n",
       "      <td>2001</td>\n",
       "      <td>0.379712</td>\n",
       "      <td>0.536854</td>\n",
       "      <td>0.375996</td>\n",
       "    </tr>\n",
       "    <tr>\n",
       "      <th>6</th>\n",
       "      <td>2002</td>\n",
       "      <td>0.379527</td>\n",
       "      <td>0.534876</td>\n",
       "      <td>0.372149</td>\n",
       "    </tr>\n",
       "    <tr>\n",
       "      <th>4</th>\n",
       "      <td>2000</td>\n",
       "      <td>0.365680</td>\n",
       "      <td>0.502687</td>\n",
       "      <td>0.369256</td>\n",
       "    </tr>\n",
       "    <tr>\n",
       "      <th>3</th>\n",
       "      <td>1990</td>\n",
       "      <td>0.346432</td>\n",
       "      <td>0.506136</td>\n",
       "      <td>0.321448</td>\n",
       "    </tr>\n",
       "    <tr>\n",
       "      <th>2</th>\n",
       "      <td>1980</td>\n",
       "      <td>0.220329</td>\n",
       "      <td>0.333649</td>\n",
       "      <td>0.223513</td>\n",
       "    </tr>\n",
       "    <tr>\n",
       "      <th>0</th>\n",
       "      <td>1960</td>\n",
       "      <td>0.178167</td>\n",
       "      <td>0.203808</td>\n",
       "      <td>0.154618</td>\n",
       "    </tr>\n",
       "    <tr>\n",
       "      <th>1</th>\n",
       "      <td>1970</td>\n",
       "      <td>0.148890</td>\n",
       "      <td>0.208536</td>\n",
       "      <td>0.147261</td>\n",
       "    </tr>\n",
       "  </tbody>\n",
       "</table>\n",
       "</div>"
      ],
      "text/plain": [
       "    year  Hisp_2534  Black_2534  White_2534\n",
       "16  2012   0.541941    0.687589    0.514680\n",
       "15  2011   0.528108    0.695414    0.501257\n",
       "14  2010   0.513770    0.675512    0.491110\n",
       "13  2009   0.507118    0.665879    0.481377\n",
       "12  2008   0.480975    0.645825    0.458493\n",
       "11  2007   0.456701    0.641037    0.446229\n",
       "10  2006   0.448674    0.626639    0.434209\n",
       "9   2005   0.403624    0.566881    0.398222\n",
       "8   2004   0.392210    0.566589    0.384354\n",
       "7   2003   0.386227    0.556734    0.380288\n",
       "5   2001   0.379712    0.536854    0.375996\n",
       "6   2002   0.379527    0.534876    0.372149\n",
       "4   2000   0.365680    0.502687    0.369256\n",
       "3   1990   0.346432    0.506136    0.321448\n",
       "2   1980   0.220329    0.333649    0.223513\n",
       "0   1960   0.178167    0.203808    0.154618\n",
       "1   1970   0.148890    0.208536    0.147261"
      ]
     },
     "execution_count": 66,
     "metadata": {},
     "output_type": "execute_result"
    }
   ],
   "source": [
    "DD[['year','Hisp_2534','Black_2534','White_2534' ]].sort_values(by =['Hisp_2534','Black_2534','White_2534'], ascending=False)"
   ]
  },
  {
   "cell_type": "code",
   "execution_count": 67,
   "metadata": {
    "collapsed": false
   },
   "outputs": [
    {
     "data": {
      "text/plain": [
       "<matplotlib.axes._subplots.AxesSubplot at 0x7f3a03f5bba8>"
      ]
     },
     "execution_count": 67,
     "metadata": {},
     "output_type": "execute_result"
    },
    {
     "data": {
      "image/png": "[encoded data removed]",
      "text/plain": [
       "<matplotlib.figure.Figure at 0x7f3a04076cc0>"
      ]
     },
     "metadata": {},
     "output_type": "display_data"
    }
   ],
   "source": [
    "fig = plt.figure()\n",
    "ax = fig.add_subplot(111)\n",
    "ax.set_title('Marriage rate among hispanic, black and white men')\n",
    "ax2 = ax.twinx()\n",
    "ax3 = ax2.twinx()\n",
    "\n",
    "\n",
    "DD['Hisp_2534'].plot(kind='bar', color='red', ax=ax3, position=0, width=0.50)\n",
    "DD['Black_2534'].plot(kind='bar', color='yellow', ax=ax, position=0, width=0.50)\n",
    "DD['White_2534'].plot(kind='bar', color='green', ax=ax2, position=1, width=0.50)"
   ]
  },
  {
   "cell_type": "code",
   "execution_count": null,
   "metadata": {
    "collapsed": false
   },
   "outputs": [],
   "source": []
  },
  {
   "cell_type": "markdown",
   "metadata": {},
   "source": [
    "This section will focus on understanding the effect of economic disparities on the marriage and divorce rate among men and women in the US. In order to understand the economic disparities, we'll catagorize the people into three classes - rich, middle and poor. The major questions to be explored in this section are, when was the marriage rate is relatively similar among the rich, middle and the poor? who is getting  married at a faster rate?\n",
    "    \n",
    "To begin with let's define the marriagegap and the divorcegap to be the difference between the marriage and the divorce rate among the rich and the poor.\n",
    "    \n"
   ]
  },
  {
   "cell_type": "code",
   "execution_count": 68,
   "metadata": {
    "collapsed": false
   },
   "outputs": [
    {
     "data": {
      "text/html": [
       "<div>\n",
       "<table border=\"1\" class=\"dataframe\">\n",
       "  <thead>\n",
       "    <tr style=\"text-align: right;\">\n",
       "      <th></th>\n",
       "      <th>year</th>\n",
       "      <th>rich_2534_x</th>\n",
       "      <th>rich_2534_y</th>\n",
       "      <th>poor_2534_x</th>\n",
       "      <th>poor_2534_y</th>\n",
       "      <th>mid_2534_x</th>\n",
       "      <th>mid_2534_y</th>\n",
       "    </tr>\n",
       "  </thead>\n",
       "  <tbody>\n",
       "    <tr>\n",
       "      <th>16</th>\n",
       "      <td>2012</td>\n",
       "      <td>0.502351</td>\n",
       "      <td>0.309432</td>\n",
       "      <td>0.686924</td>\n",
       "      <td>0.625862</td>\n",
       "      <td>0.499678</td>\n",
       "      <td>0.413374</td>\n",
       "    </tr>\n",
       "    <tr>\n",
       "      <th>15</th>\n",
       "      <td>2011</td>\n",
       "      <td>0.492053</td>\n",
       "      <td>0.301791</td>\n",
       "      <td>0.675854</td>\n",
       "      <td>0.610537</td>\n",
       "      <td>0.487102</td>\n",
       "      <td>0.400492</td>\n",
       "    </tr>\n",
       "    <tr>\n",
       "      <th>14</th>\n",
       "      <td>2010</td>\n",
       "      <td>0.478376</td>\n",
       "      <td>0.284594</td>\n",
       "      <td>0.662610</td>\n",
       "      <td>0.596789</td>\n",
       "      <td>0.475098</td>\n",
       "      <td>0.387452</td>\n",
       "    </tr>\n",
       "    <tr>\n",
       "      <th>13</th>\n",
       "      <td>2009</td>\n",
       "      <td>0.468573</td>\n",
       "      <td>0.280022</td>\n",
       "      <td>0.651931</td>\n",
       "      <td>0.595321</td>\n",
       "      <td>0.468790</td>\n",
       "      <td>0.374930</td>\n",
       "    </tr>\n",
       "    <tr>\n",
       "      <th>12</th>\n",
       "      <td>2008</td>\n",
       "      <td>0.455910</td>\n",
       "      <td>0.261436</td>\n",
       "      <td>0.641428</td>\n",
       "      <td>0.578340</td>\n",
       "      <td>0.430316</td>\n",
       "      <td>0.351756</td>\n",
       "    </tr>\n",
       "    <tr>\n",
       "      <th>11</th>\n",
       "      <td>2007</td>\n",
       "      <td>0.443882</td>\n",
       "      <td>0.255036</td>\n",
       "      <td>0.618275</td>\n",
       "      <td>0.565550</td>\n",
       "      <td>0.415835</td>\n",
       "      <td>0.337782</td>\n",
       "    </tr>\n",
       "    <tr>\n",
       "      <th>10</th>\n",
       "      <td>2006</td>\n",
       "      <td>0.431818</td>\n",
       "      <td>0.247917</td>\n",
       "      <td>0.602822</td>\n",
       "      <td>0.545439</td>\n",
       "      <td>0.413722</td>\n",
       "      <td>0.327686</td>\n",
       "    </tr>\n",
       "    <tr>\n",
       "      <th>3</th>\n",
       "      <td>1990</td>\n",
       "      <td>0.362814</td>\n",
       "      <td>0.185201</td>\n",
       "      <td>0.468160</td>\n",
       "      <td>0.379916</td>\n",
       "      <td>0.281083</td>\n",
       "      <td>0.206403</td>\n",
       "    </tr>\n",
       "    <tr>\n",
       "      <th>4</th>\n",
       "      <td>2000</td>\n",
       "      <td>0.338113</td>\n",
       "      <td>0.196698</td>\n",
       "      <td>0.542729</td>\n",
       "      <td>0.472570</td>\n",
       "      <td>0.341773</td>\n",
       "      <td>0.258967</td>\n",
       "    </tr>\n",
       "    <tr>\n",
       "      <th>9</th>\n",
       "      <td>2005</td>\n",
       "      <td>0.326089</td>\n",
       "      <td>0.197993</td>\n",
       "      <td>0.584151</td>\n",
       "      <td>0.529957</td>\n",
       "      <td>0.390601</td>\n",
       "      <td>0.306078</td>\n",
       "    </tr>\n",
       "    <tr>\n",
       "      <th>8</th>\n",
       "      <td>2004</td>\n",
       "      <td>0.318146</td>\n",
       "      <td>0.188011</td>\n",
       "      <td>0.568108</td>\n",
       "      <td>0.515923</td>\n",
       "      <td>0.376528</td>\n",
       "      <td>0.296704</td>\n",
       "    </tr>\n",
       "    <tr>\n",
       "      <th>5</th>\n",
       "      <td>2001</td>\n",
       "      <td>0.317854</td>\n",
       "      <td>0.190242</td>\n",
       "      <td>0.560838</td>\n",
       "      <td>0.482186</td>\n",
       "      <td>0.359708</td>\n",
       "      <td>0.277087</td>\n",
       "    </tr>\n",
       "    <tr>\n",
       "      <th>7</th>\n",
       "      <td>2003</td>\n",
       "      <td>0.314336</td>\n",
       "      <td>0.190393</td>\n",
       "      <td>0.571418</td>\n",
       "      <td>0.502975</td>\n",
       "      <td>0.371776</td>\n",
       "      <td>0.287216</td>\n",
       "    </tr>\n",
       "    <tr>\n",
       "      <th>6</th>\n",
       "      <td>2002</td>\n",
       "      <td>0.313441</td>\n",
       "      <td>0.194505</td>\n",
       "      <td>0.554793</td>\n",
       "      <td>0.489172</td>\n",
       "      <td>0.359645</td>\n",
       "      <td>0.279288</td>\n",
       "    </tr>\n",
       "    <tr>\n",
       "      <th>0</th>\n",
       "      <td>1960</td>\n",
       "      <td>0.283228</td>\n",
       "      <td>0.129192</td>\n",
       "      <td>0.169127</td>\n",
       "      <td>0.111279</td>\n",
       "      <td>0.098531</td>\n",
       "      <td>0.053045</td>\n",
       "    </tr>\n",
       "    <tr>\n",
       "      <th>2</th>\n",
       "      <td>1980</td>\n",
       "      <td>0.249909</td>\n",
       "      <td>0.120090</td>\n",
       "      <td>0.351289</td>\n",
       "      <td>0.273570</td>\n",
       "      <td>0.173980</td>\n",
       "      <td>0.126945</td>\n",
       "    </tr>\n",
       "    <tr>\n",
       "      <th>1</th>\n",
       "      <td>1970</td>\n",
       "      <td>0.234565</td>\n",
       "      <td>0.113618</td>\n",
       "      <td>0.190205</td>\n",
       "      <td>0.151992</td>\n",
       "      <td>0.098481</td>\n",
       "      <td>0.066461</td>\n",
       "    </tr>\n",
       "  </tbody>\n",
       "</table>\n",
       "</div>"
      ],
      "text/plain": [
       "    year  rich_2534_x  rich_2534_y  poor_2534_x  poor_2534_y  mid_2534_x  \\\n",
       "16  2012     0.502351     0.309432     0.686924     0.625862    0.499678   \n",
       "15  2011     0.492053     0.301791     0.675854     0.610537    0.487102   \n",
       "14  2010     0.478376     0.284594     0.662610     0.596789    0.475098   \n",
       "13  2009     0.468573     0.280022     0.651931     0.595321    0.468790   \n",
       "12  2008     0.455910     0.261436     0.641428     0.578340    0.430316   \n",
       "11  2007     0.443882     0.255036     0.618275     0.565550    0.415835   \n",
       "10  2006     0.431818     0.247917     0.602822     0.545439    0.413722   \n",
       "3   1990     0.362814     0.185201     0.468160     0.379916    0.281083   \n",
       "4   2000     0.338113     0.196698     0.542729     0.472570    0.341773   \n",
       "9   2005     0.326089     0.197993     0.584151     0.529957    0.390601   \n",
       "8   2004     0.318146     0.188011     0.568108     0.515923    0.376528   \n",
       "5   2001     0.317854     0.190242     0.560838     0.482186    0.359708   \n",
       "7   2003     0.314336     0.190393     0.571418     0.502975    0.371776   \n",
       "6   2002     0.313441     0.194505     0.554793     0.489172    0.359645   \n",
       "0   1960     0.283228     0.129192     0.169127     0.111279    0.098531   \n",
       "2   1980     0.249909     0.120090     0.351289     0.273570    0.173980   \n",
       "1   1970     0.234565     0.113618     0.190205     0.151992    0.098481   \n",
       "\n",
       "    mid_2534_y  \n",
       "16    0.413374  \n",
       "15    0.400492  \n",
       "14    0.387452  \n",
       "13    0.374930  \n",
       "12    0.351756  \n",
       "11    0.337782  \n",
       "10    0.327686  \n",
       "3     0.206403  \n",
       "4     0.258967  \n",
       "9     0.306078  \n",
       "8     0.296704  \n",
       "5     0.277087  \n",
       "7     0.287216  \n",
       "6     0.279288  \n",
       "0     0.053045  \n",
       "2     0.126945  \n",
       "1     0.066461  "
      ]
     },
     "execution_count": 68,
     "metadata": {},
     "output_type": "execute_result"
    }
   ],
   "source": [
    "\n",
    "mwmr[['year', 'rich_2534_x','rich_2534_y','poor_2534_x','poor_2534_y', 'mid_2534_x', 'mid_2534_y']].sort_values(by=['rich_2534_x','rich_2534_y','poor_2534_x','poor_2534_y', 'mid_2534_x', 'mid_2534_y'],ascending = False)"
   ]
  },
  {
   "cell_type": "code",
   "execution_count": 69,
   "metadata": {
    "collapsed": false
   },
   "outputs": [
    {
     "data": {
      "text/html": [
       "<div>\n",
       "<table border=\"1\" class=\"dataframe\">\n",
       "  <thead>\n",
       "    <tr style=\"text-align: right;\">\n",
       "      <th></th>\n",
       "      <th>year</th>\n",
       "      <th>marriagegap</th>\n",
       "    </tr>\n",
       "  </thead>\n",
       "  <tbody>\n",
       "    <tr>\n",
       "      <th>0</th>\n",
       "      <td>1960</td>\n",
       "      <td>-0.114101</td>\n",
       "    </tr>\n",
       "    <tr>\n",
       "      <th>1</th>\n",
       "      <td>1970</td>\n",
       "      <td>-0.044360</td>\n",
       "    </tr>\n",
       "    <tr>\n",
       "      <th>2</th>\n",
       "      <td>1980</td>\n",
       "      <td>0.101380</td>\n",
       "    </tr>\n",
       "    <tr>\n",
       "      <th>3</th>\n",
       "      <td>1990</td>\n",
       "      <td>0.105346</td>\n",
       "    </tr>\n",
       "    <tr>\n",
       "      <th>4</th>\n",
       "      <td>2000</td>\n",
       "      <td>0.204616</td>\n",
       "    </tr>\n",
       "    <tr>\n",
       "      <th>5</th>\n",
       "      <td>2001</td>\n",
       "      <td>0.242984</td>\n",
       "    </tr>\n",
       "    <tr>\n",
       "      <th>6</th>\n",
       "      <td>2002</td>\n",
       "      <td>0.241352</td>\n",
       "    </tr>\n",
       "    <tr>\n",
       "      <th>7</th>\n",
       "      <td>2003</td>\n",
       "      <td>0.257082</td>\n",
       "    </tr>\n",
       "    <tr>\n",
       "      <th>8</th>\n",
       "      <td>2004</td>\n",
       "      <td>0.249962</td>\n",
       "    </tr>\n",
       "    <tr>\n",
       "      <th>9</th>\n",
       "      <td>2005</td>\n",
       "      <td>0.258062</td>\n",
       "    </tr>\n",
       "    <tr>\n",
       "      <th>10</th>\n",
       "      <td>2006</td>\n",
       "      <td>0.171005</td>\n",
       "    </tr>\n",
       "    <tr>\n",
       "      <th>11</th>\n",
       "      <td>2007</td>\n",
       "      <td>0.174393</td>\n",
       "    </tr>\n",
       "    <tr>\n",
       "      <th>12</th>\n",
       "      <td>2008</td>\n",
       "      <td>0.185519</td>\n",
       "    </tr>\n",
       "    <tr>\n",
       "      <th>13</th>\n",
       "      <td>2009</td>\n",
       "      <td>0.183358</td>\n",
       "    </tr>\n",
       "    <tr>\n",
       "      <th>14</th>\n",
       "      <td>2010</td>\n",
       "      <td>0.184234</td>\n",
       "    </tr>\n",
       "    <tr>\n",
       "      <th>15</th>\n",
       "      <td>2011</td>\n",
       "      <td>0.183800</td>\n",
       "    </tr>\n",
       "    <tr>\n",
       "      <th>16</th>\n",
       "      <td>2012</td>\n",
       "      <td>0.184574</td>\n",
       "    </tr>\n",
       "  </tbody>\n",
       "</table>\n",
       "</div>"
      ],
      "text/plain": [
       "    year  marriagegap\n",
       "0   1960    -0.114101\n",
       "1   1970    -0.044360\n",
       "2   1980     0.101380\n",
       "3   1990     0.105346\n",
       "4   2000     0.204616\n",
       "5   2001     0.242984\n",
       "6   2002     0.241352\n",
       "7   2003     0.257082\n",
       "8   2004     0.249962\n",
       "9   2005     0.258062\n",
       "10  2006     0.171005\n",
       "11  2007     0.174393\n",
       "12  2008     0.185519\n",
       "13  2009     0.183358\n",
       "14  2010     0.184234\n",
       "15  2011     0.183800\n",
       "16  2012     0.184574"
      ]
     },
     "execution_count": 69,
     "metadata": {},
     "output_type": "execute_result"
    }
   ],
   "source": [
    "DD['marriagegap'] = DD['poor_2534']-DD['rich_2534']\n",
    "DD[['year','marriagegap']]"
   ]
  },
  {
   "cell_type": "code",
   "execution_count": null,
   "metadata": {
    "collapsed": true
   },
   "outputs": [],
   "source": []
  },
  {
   "cell_type": "code",
   "execution_count": 71,
   "metadata": {
    "collapsed": false
   },
   "outputs": [],
   "source": [
    " \n",
    "marriagegapdata = DD[['year', 'marriagegap']]"
   ]
  },
  {
   "cell_type": "code",
   "execution_count": 73,
   "metadata": {
    "collapsed": false
   },
   "outputs": [
    {
     "data": {
      "image/png": "[encoded data removed]",
      "text/plain": [
       "<matplotlib.figure.Figure at 0x7f3a03d87b70>"
      ]
     },
     "metadata": {},
     "output_type": "display_data"
    },
    {
     "data": {
      "text/plain": [
       "<ggplot: (-9223363293907946976)>"
      ]
     },
     "execution_count": 73,
     "metadata": {},
     "output_type": "execute_result"
    }
   ],
   "source": [
    "ggplot(aes(x='year', y = 'marriagegap'), data = marriagegapdata) + geom_line() + xlab(\"Year\") +ylab(\"marriage gap between rich and poor\")"
   ]
  },
  {
   "cell_type": "code",
   "execution_count": null,
   "metadata": {
    "collapsed": true
   },
   "outputs": [],
   "source": []
  },
  {
   "cell_type": "code",
   "execution_count": 75,
   "metadata": {
    "collapsed": false
   },
   "outputs": [
    {
     "data": {
      "text/html": [
       "<div>\n",
       "<table border=\"1\" class=\"dataframe\">\n",
       "  <thead>\n",
       "    <tr style=\"text-align: right;\">\n",
       "      <th></th>\n",
       "      <th>year</th>\n",
       "      <th>divorcegap</th>\n",
       "    </tr>\n",
       "  </thead>\n",
       "  <tbody>\n",
       "    <tr>\n",
       "      <th>0</th>\n",
       "      <td>1960</td>\n",
       "      <td>0.013763</td>\n",
       "    </tr>\n",
       "    <tr>\n",
       "      <th>1</th>\n",
       "      <td>1970</td>\n",
       "      <td>0.043157</td>\n",
       "    </tr>\n",
       "    <tr>\n",
       "      <th>2</th>\n",
       "      <td>1980</td>\n",
       "      <td>0.083841</td>\n",
       "    </tr>\n",
       "    <tr>\n",
       "      <th>3</th>\n",
       "      <td>1990</td>\n",
       "      <td>0.140799</td>\n",
       "    </tr>\n",
       "    <tr>\n",
       "      <th>4</th>\n",
       "      <td>2000</td>\n",
       "      <td>0.202326</td>\n",
       "    </tr>\n",
       "    <tr>\n",
       "      <th>5</th>\n",
       "      <td>2001</td>\n",
       "      <td>0.238280</td>\n",
       "    </tr>\n",
       "    <tr>\n",
       "      <th>6</th>\n",
       "      <td>2002</td>\n",
       "      <td>0.236701</td>\n",
       "    </tr>\n",
       "    <tr>\n",
       "      <th>7</th>\n",
       "      <td>2003</td>\n",
       "      <td>0.236191</td>\n",
       "    </tr>\n",
       "    <tr>\n",
       "      <th>8</th>\n",
       "      <td>2004</td>\n",
       "      <td>0.254895</td>\n",
       "    </tr>\n",
       "    <tr>\n",
       "      <th>9</th>\n",
       "      <td>2005</td>\n",
       "      <td>0.255507</td>\n",
       "    </tr>\n",
       "    <tr>\n",
       "      <th>10</th>\n",
       "      <td>2006</td>\n",
       "      <td>0.199841</td>\n",
       "    </tr>\n",
       "    <tr>\n",
       "      <th>11</th>\n",
       "      <td>2007</td>\n",
       "      <td>0.210940</td>\n",
       "    </tr>\n",
       "    <tr>\n",
       "      <th>12</th>\n",
       "      <td>2008</td>\n",
       "      <td>0.215442</td>\n",
       "    </tr>\n",
       "    <tr>\n",
       "      <th>13</th>\n",
       "      <td>2009</td>\n",
       "      <td>0.232746</td>\n",
       "    </tr>\n",
       "    <tr>\n",
       "      <th>14</th>\n",
       "      <td>2010</td>\n",
       "      <td>0.234119</td>\n",
       "    </tr>\n",
       "    <tr>\n",
       "      <th>15</th>\n",
       "      <td>2011</td>\n",
       "      <td>0.243352</td>\n",
       "    </tr>\n",
       "    <tr>\n",
       "      <th>16</th>\n",
       "      <td>2012</td>\n",
       "      <td>0.250671</td>\n",
       "    </tr>\n",
       "  </tbody>\n",
       "</table>\n",
       "</div>"
      ],
      "text/plain": [
       "    year  divorcegap\n",
       "0   1960    0.013763\n",
       "1   1970    0.043157\n",
       "2   1980    0.083841\n",
       "3   1990    0.140799\n",
       "4   2000    0.202326\n",
       "5   2001    0.238280\n",
       "6   2002    0.236701\n",
       "7   2003    0.236191\n",
       "8   2004    0.254895\n",
       "9   2005    0.255507\n",
       "10  2006    0.199841\n",
       "11  2007    0.210940\n",
       "12  2008    0.215442\n",
       "13  2009    0.232746\n",
       "14  2010    0.234119\n",
       "15  2011    0.243352\n",
       "16  2012    0.250671"
      ]
     },
     "execution_count": 75,
     "metadata": {},
     "output_type": "execute_result"
    }
   ],
   "source": [
    "dr['divorcegap'] = DD['poor_3544']-DD['rich_3544']\n",
    "dr[['year','divorcegap']]"
   ]
  },
  {
   "cell_type": "code",
   "execution_count": 76,
   "metadata": {
    "collapsed": false
   },
   "outputs": [],
   "source": [
    "divorcegapdata = dr[['year', 'divorcegap']]"
   ]
  },
  {
   "cell_type": "code",
   "execution_count": 77,
   "metadata": {
    "collapsed": false
   },
   "outputs": [
    {
     "data": {
      "image/png": "[encoded data removed]",
      "text/plain": [
       "<matplotlib.figure.Figure at 0x7f3a049cb470>"
      ]
     },
     "metadata": {},
     "output_type": "display_data"
    },
    {
     "data": {
      "text/plain": [
       "<ggplot: (8742946865619)>"
      ]
     },
     "execution_count": 77,
     "metadata": {},
     "output_type": "execute_result"
    }
   ],
   "source": [
    "ggplot(aes(x='year', y = 'divorcegap'), data = divorcegapdata) + geom_line() + xlab(\"Year\") +ylab(\"divorce gap between rich and poor\")"
   ]
  },
  {
   "cell_type": "code",
   "execution_count": 78,
   "metadata": {
    "collapsed": false
   },
   "outputs": [
    {
     "data": {
      "text/plain": [
       "<matplotlib.axes._subplots.AxesSubplot at 0x7f3a03c2e978>"
      ]
     },
     "execution_count": 78,
     "metadata": {},
     "output_type": "execute_result"
    },
    {
     "data": {
      "image/png": "[encoded data removed]",
      "text/plain": [
       "<matplotlib.figure.Figure at 0x7f3a03d12da0>"
      ]
     },
     "metadata": {},
     "output_type": "display_data"
    }
   ],
   "source": [
    "fig = plt.figure()\n",
    "\n",
    "ax = fig.add_subplot(111)\n",
    "ax2 = ax.twinx()\n",
    "ax.set_title('Divorce rate for the poor and the rich')\n",
    "\n",
    "dr['rich_3544'].plot(kind='bar', color='red', ax=ax, position=0, width=0.25)\n",
    "\n",
    "dr['poor_3544'].plot(kind='bar', color='blue', ax=ax2, position=1, width=0.25)"
   ]
  },
  {
   "cell_type": "markdown",
   "metadata": {},
   "source": [
    "In this section, I'll explore the difference in the marriage rate among men and women for different levels of education. In order to accomplish the task, I'm going to join two tables - a table for men and a table for women. And I will call it 'mwmr'."
   ]
  },
  {
   "cell_type": "code",
   "execution_count": 79,
   "metadata": {
    "collapsed": false
   },
   "outputs": [],
   "source": [
    "mwmr = pd.merge(DD, wm, how = 'left', on='year')\n",
    "mw = mwmr[['year', 'BAp_2534_x', 'BAp_2534_y']]"
   ]
  },
  {
   "cell_type": "code",
   "execution_count": 81,
   "metadata": {
    "collapsed": false
   },
   "outputs": [
    {
     "name": "stderr",
     "output_type": "stream",
     "text": [
      "/usr/local/lib/python3.5/site-packages/ipykernel/__main__.py:1: SettingWithCopyWarning: \n",
      "A value is trying to be set on a copy of a slice from a DataFrame.\n",
      "Try using .loc[row_indexer,col_indexer] = value instead\n",
      "\n",
      "See the caveats in the documentation: http://pandas.pydata.org/pandas-docs/stable/indexing.html#indexing-view-versus-copy\n",
      "  if __name__ == '__main__':\n"
     ]
    },
    {
     "data": {
      "text/plain": [
       "Index(['Unnamed: 0_x', 'year', 'date_x', 'all_2534_x', 'HS_2534_x',\n",
       "       'SC_2534_x', 'BAp_2534_x', 'BAo_2534_x', 'GD_2534_x', 'White_2534_x',\n",
       "       ...\n",
       "       'kids_SC_2534_y', 'kids_BAp_2534_y', 'kids_BAo_2534_y',\n",
       "       'kids_GD_2534_y', 'nokids_poor_2534_y', 'nokids_mid_2534_y',\n",
       "       'nokids_rich_2534_y', 'kids_poor_2534_y', 'kids_mid_2534_y',\n",
       "       'kids_rich_2534_y'],\n",
       "      dtype='object', length=198)"
      ]
     },
     "execution_count": 81,
     "metadata": {},
     "output_type": "execute_result"
    }
   ],
   "source": [
    "mw['marriagegapmw'] = mw['BAp_2534_x'] - mw['BAp_2534_y']\n",
    "mwmr.columns"
   ]
  },
  {
   "cell_type": "code",
   "execution_count": 52,
   "metadata": {
    "collapsed": false
   },
   "outputs": [],
   "source": [
    "mgapdata = mw[['year', 'marriagegapmw']]"
   ]
  },
  {
   "cell_type": "code",
   "execution_count": 82,
   "metadata": {
    "collapsed": false
   },
   "outputs": [
    {
     "data": {
      "image/png": "[encoded data removed]",
      "text/plain": [
       "<matplotlib.figure.Figure at 0x7f3a03c52630>"
      ]
     },
     "metadata": {},
     "output_type": "display_data"
    },
    {
     "data": {
      "text/plain": [
       "<ggplot: (8742946835127)>"
      ]
     },
     "execution_count": 82,
     "metadata": {},
     "output_type": "execute_result"
    }
   ],
   "source": [
    "ggplot(aes(x='year', y = 'marriagegapmw'), data = mgapdata) + geom_line() + xlab(\"Year\") +ylab(\"Marriage gap between men and women\")"
   ]
  }
 ],
 "metadata": {
  "kernelspec": {
   "display_name": "Python 3",
   "language": "python",
   "name": "python3"
  },
  "language_info": {
   "codemirror_mode": {
    "name": "ipython",
    "version": 3
   },
   "file_extension": ".py",
   "mimetype": "text/x-python",
   "name": "python",
   "nbconvert_exporter": "python",
   "pygments_lexer": "ipython3",
   "version": "3.5.1"
  }
 },
 "nbformat": 4,
 "nbformat_minor": 0
}
